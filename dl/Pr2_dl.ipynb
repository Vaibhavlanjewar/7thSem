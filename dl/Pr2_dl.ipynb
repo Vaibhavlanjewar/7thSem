{
  "nbformat": 4,
  "nbformat_minor": 0,
  "metadata": {
    "colab": {
      "provenance": []
    },
    "kernelspec": {
      "name": "python3",
      "display_name": "Python 3"
    },
    "language_info": {
      "name": "python"
    }
  },
  "cells": [
    {
      "cell_type": "markdown",
      "source": [
        "Practical 2: Build a deep neural network model start with linear regression using a single variable"
      ],
      "metadata": {
        "id": "8cjbgkpFLlLu"
      }
    },
    {
      "cell_type": "code",
      "execution_count": 20,
      "metadata": {
        "id": "DfvDjGqVLjPn"
      },
      "outputs": [],
      "source": [
        "data = [\n",
        "    [152.4, 52.16],\n",
        "    [157.48, 54.43],\n",
        "    [162.56, 56.7],\n",
        "    [167.64, 58.97],\n",
        "    [172.72, 61.23],\n",
        "    [177.8, 63.5],\n",
        "    [182.88, 65.77],\n",
        "    [187.96, 68.04]\n",
        "]"
      ]
    },
    {
      "cell_type": "code",
      "source": [
        "# split\n",
        "X = [i[0] for i in data]\n",
        "Y = [i[1] for i in data]"
      ],
      "metadata": {
        "id": "zB3MCgRTL9eq"
      },
      "execution_count": 22,
      "outputs": []
    },
    {
      "cell_type": "markdown",
      "source": [],
      "metadata": {
        "id": "owQL4rmrT0-M"
      }
    },
    {
      "cell_type": "code",
      "source": [
        "print(X)"
      ],
      "metadata": {
        "colab": {
          "base_uri": "https://localhost:8080/"
        },
        "id": "eXvZQ67jL9hL",
        "outputId": "336a701f-b358-4283-c0b0-8c4807f14ca0"
      },
      "execution_count": 23,
      "outputs": [
        {
          "output_type": "stream",
          "name": "stdout",
          "text": [
            "[152.4, 157.48, 162.56, 167.64, 172.72, 177.8, 182.88, 187.96]\n"
          ]
        }
      ]
    },
    {
      "cell_type": "code",
      "source": [
        "print(Y)"
      ],
      "metadata": {
        "colab": {
          "base_uri": "https://localhost:8080/"
        },
        "id": "CWp8jE4BL9j0",
        "outputId": "3a1495a5-8f2b-48a1-ad98-8ceaed6208a7"
      },
      "execution_count": 24,
      "outputs": [
        {
          "output_type": "stream",
          "name": "stdout",
          "text": [
            "[52.16, 54.43, 56.7, 58.97, 61.23, 63.5, 65.77, 68.04]\n"
          ]
        }
      ]
    },
    {
      "cell_type": "code",
      "source": [
        "# Mean\n",
        "mean_x = sum(X) / len(X)\n",
        "mean_y = sum(Y) / len(Y)"
      ],
      "metadata": {
        "id": "ydvC5m-KL9mp"
      },
      "execution_count": 25,
      "outputs": []
    },
    {
      "cell_type": "code",
      "source": [
        "std_x = math.sqrt(sum([(x - mean_x) ** 2 for x in X]) / len(X))\n",
        "std_y = math.sqrt(sum([(y - mean_y) ** 2 for y in Y]) / len(Y))\n",
        "print(std_x, std_y)"
      ],
      "metadata": {
        "colab": {
          "base_uri": "https://localhost:8080/"
        },
        "id": "Irdc7C24SI44",
        "outputId": "22261289-f642-47de-9dcc-988c1fc3df88"
      },
      "execution_count": 28,
      "outputs": [
        {
          "output_type": "stream",
          "name": "stdout",
          "text": [
            "11.639742265187838 5.196859628660371\n"
          ]
        }
      ]
    },
    {
      "cell_type": "markdown",
      "source": [
        "![image.png](data:image/png;base64,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)"
      ],
      "metadata": {
        "id": "2V6AECtGNcWx"
      }
    },
    {
      "cell_type": "code",
      "source": [
        "# Standardize the height (X) and weight (Y)\n",
        "X_standardized = [(x - mean_x) / std_x for x in X]\n",
        "Y_standardized = [(y - mean_y) / std_y for y in Y]"
      ],
      "metadata": {
        "id": "QhPB_AVLSUdh"
      },
      "execution_count": 29,
      "outputs": []
    },
    {
      "cell_type": "code",
      "source": [
        "# Calculate the slope (m) and intercept (c) on standardized data\n",
        "numerator = sum([(X_standardized[i] - 0) * (Y_standardized[i] - 0) for i in range(len(X))])\n",
        "denominator = sum([(X_standardized[i] - 0) ** 2 for i in range(len(X))])\n",
        "\n",
        "m_standardized = numerator / denominator\n",
        "c_standardized = 0  # For standardized data, intercept c is usually zero\n"
      ],
      "metadata": {
        "id": "ZRnyJ5uDSd3y"
      },
      "execution_count": 30,
      "outputs": []
    },
    {
      "cell_type": "markdown",
      "source": [
        "Y=mX+c"
      ],
      "metadata": {
        "id": "n3Z68koiPiR6"
      }
    },
    {
      "cell_type": "code",
      "source": [
        "# Predicting Y values using the standardized model\n",
        "predictions_standardized = [(m_standardized * X_standardized[i]) + c_standardized for i in range(len(X))]\n"
      ],
      "metadata": {
        "id": "N6_KblAfL9sJ"
      },
      "execution_count": 31,
      "outputs": []
    },
    {
      "cell_type": "code",
      "source": [
        "# Convert the standardized predictions back to the original scale\n",
        "predictions_original = [(p * std_y) + mean_y for p in predictions_standardized]"
      ],
      "metadata": {
        "id": "ib_zicKrL9ux"
      },
      "execution_count": 32,
      "outputs": []
    },
    {
      "cell_type": "code",
      "source": [
        "# Calculate Mean Squared Error (MSE) on the original scale\n",
        "mse_original = sum([(Y[i] - predictions_original[i]) ** 2 for i in range(len(Y))]) / len(Y)"
      ],
      "metadata": {
        "id": "THd24InwSr6J"
      },
      "execution_count": 33,
      "outputs": []
    },
    {
      "cell_type": "code",
      "source": [
        "# Output\n",
        "print(\"Mean of X:\", mean_x)\n",
        "print(\"Standard Deviation of X:\", std_x)\n",
        "print(\"Mean of Y:\", mean_y)\n",
        "print(\"Standard Deviation of Y:\", std_y)\n",
        "print(\"Slope (m) on standardized data:\", m_standardized)\n",
        "print(\"Intercept (c) on standardized data:\", c_standardized)\n",
        "print(\"Predictions on original scale:\", predictions_original)\n",
        "print(\"Mean Squared Error (MSE) on original scale:\", mse_original)\n"
      ],
      "metadata": {
        "colab": {
          "base_uri": "https://localhost:8080/"
        },
        "id": "FeT30v41Szyp",
        "outputId": "23e4385f-482a-4e82-86c2-830af9836750"
      },
      "execution_count": 34,
      "outputs": [
        {
          "output_type": "stream",
          "name": "stdout",
          "text": [
            "Mean of X: 170.18\n",
            "Standard Deviation of X: 11.639742265187838\n",
            "Mean of Y: 60.1\n",
            "Standard Deviation of Y: 5.196859628660371\n",
            "Slope (m) on standardized data: 0.999999889800716\n",
            "Intercept (c) on standardized data: 0\n",
            "Predictions on original scale: [52.16166666666667, 54.4297619047619, 56.697857142857146, 58.96595238095237, 61.234047619047615, 63.50214285714286, 65.77023809523808, 68.03833333333334]\n",
            "Mean Squared Error (MSE) on original scale: 5.952380952388734e-06\n"
          ]
        }
      ]
    },
    {
      "cell_type": "code",
      "source": [
        "# Test with a height of 185.6 cm\n",
        "test_height_standardized = (185.6 - mean_x) / std_x\n",
        "predicted_weight_standardized = (m_standardized * test_height_standardized) + c_standardized\n",
        "predicted_weight_original = (predicted_weight_standardized * std_y) + mean_y\n",
        "\n",
        "print(f\"Predicted weight for height 185.6 cm is: {predicted_weight_original:.2f} kg\")"
      ],
      "metadata": {
        "colab": {
          "base_uri": "https://localhost:8080/"
        },
        "id": "yXqtDtusRjN3",
        "outputId": "b1b996f7-9efc-48ac-b1d2-556d5d04039f"
      },
      "execution_count": 35,
      "outputs": [
        {
          "output_type": "stream",
          "name": "stdout",
          "text": [
            "Predicted weight for height 185.6 cm is: 66.98 kg\n"
          ]
        }
      ]
    }
  ]
}